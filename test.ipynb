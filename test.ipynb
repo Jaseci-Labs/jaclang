{
 "cells": [
  {
   "cell_type": "code",
   "execution_count": 1,
   "metadata": {},
   "outputs": [],
   "source": [
    "from __future__ import annotations\n",
    "\n",
    "class Fruit:\n",
    "    def __init__(self, name, color) -> None:\n",
    "        self.name = name\n",
    "        self.color = color\n",
    "\n",
    "class Apple:\n",
    "    def __init__(self, color, weight, price, origin):\n",
    "        self.color = color\n",
    "        self.weight = weight\n",
    "        self.price = price\n",
    "        self.origin = origin\n",
    "    \n",
    "    def get_fruit(self) -> Fruit:\n",
    "        return Fruit(\"apple\", self.color)\n",
    "    \n"
   ]
  },
  {
   "cell_type": "code",
   "execution_count": 2,
   "metadata": {},
   "outputs": [],
   "source": [
    "from typing import Any\n",
    "\n",
    "def get_type_annotation(data: Any) -> str:\n",
    "    # Check if the input is a dictionary\n",
    "    if isinstance(data, dict):\n",
    "        # Get the class name of the first non-None value in the dictionary\n",
    "        class_name = next((value.__class__.__name__ for value in data.values() if value is not None), None)\n",
    "\n",
    "        if class_name:\n",
    "            return f\"dict[str, {class_name}]\"\n",
    "        else:\n",
    "            return \"dict[str, Any]\"\n",
    "    # If the input is not a dictionary, return its type\n",
    "    else:\n",
    "        return type(data).__name__"
   ]
  },
  {
   "cell_type": "code",
   "execution_count": 3,
   "metadata": {},
   "outputs": [],
   "source": [
    "def get_object_string(obj):\n",
    "    if isinstance(obj, str):\n",
    "        return f'\"{obj}\"'\n",
    "    elif isinstance(obj, (int, float, bool)):\n",
    "        return str(obj)\n",
    "    elif isinstance(obj, list):\n",
    "        return '[' + ', '.join(get_object_string(item) for item in obj) + ']'\n",
    "    elif isinstance(obj, tuple):\n",
    "        return '(' + ', '.join(get_object_string(item) for item in obj) + ')'\n",
    "    elif isinstance(obj, dict):\n",
    "        return '{' + ', '.join(f\"{get_object_string(key)}: {get_object_string(value)}\" for key, value in obj.items()) + '}'\n",
    "    elif hasattr(obj, '__dict__'):\n",
    "        args = ', '.join(f\"{key}={get_object_string(value)}\" for key, value in vars(obj).items())\n",
    "        return f\"{obj.__class__.__name__}({args})\"\n",
    "    else:\n",
    "        return str(obj)"
   ]
  },
  {
   "cell_type": "code",
   "execution_count": 4,
   "metadata": {},
   "outputs": [],
   "source": [
    "apple1 = Apple(\"red\", 100, 100, \"USA\")\n",
    "a = {\n",
    "    \"a1\": apple1,\n",
    "    \"a2\": Apple(\"green\", 200, 200, \"Japan\"),\n",
    "    \"a3\": Apple(\"yellow\", 300, 300, \"China\"),\n",
    "}"
   ]
  },
  {
   "cell_type": "code",
   "execution_count": 5,
   "metadata": {},
   "outputs": [
    {
     "data": {
      "text/plain": [
       "'dict[str, Apple]'"
      ]
     },
     "execution_count": 5,
     "metadata": {},
     "output_type": "execute_result"
    }
   ],
   "source": [
    "get_type_annotation(a)"
   ]
  },
  {
   "cell_type": "code",
   "execution_count": 6,
   "metadata": {},
   "outputs": [
    {
     "data": {
      "text/plain": [
       "'{\"a1\": Apple(color=\"red\", weight=100, price=100, origin=\"USA\"), \"a2\": Apple(color=\"green\", weight=200, price=200, origin=\"Japan\"), \"a3\": Apple(color=\"yellow\", weight=300, price=300, origin=\"China\")}'"
      ]
     },
     "execution_count": 6,
     "metadata": {},
     "output_type": "execute_result"
    }
   ],
   "source": [
    "get_object_string(a)"
   ]
  },
  {
   "cell_type": "code",
   "execution_count": 7,
   "metadata": {},
   "outputs": [],
   "source": [
    "a = Apple(\"red\", 100, 10, \"China\")"
   ]
  },
  {
   "cell_type": "code",
   "execution_count": 8,
   "metadata": {},
   "outputs": [
    {
     "data": {
      "text/plain": [
       "'Apple'"
      ]
     },
     "execution_count": 8,
     "metadata": {},
     "output_type": "execute_result"
    }
   ],
   "source": [
    "get_type_annotation(a)"
   ]
  },
  {
   "cell_type": "code",
   "execution_count": 9,
   "metadata": {},
   "outputs": [
    {
     "data": {
      "text/plain": [
       "'Apple(color=\"red\", weight=100, price=10, origin=\"China\")'"
      ]
     },
     "execution_count": 9,
     "metadata": {},
     "output_type": "execute_result"
    }
   ],
   "source": [
    "get_object_string(a)"
   ]
  },
  {
   "cell_type": "code",
   "execution_count": 10,
   "metadata": {},
   "outputs": [
    {
     "name": "stdout",
     "output_type": "stream",
     "text": [
      "int 10\n"
     ]
    }
   ],
   "source": [
    "a = 10\n",
    "print(get_type_annotation(a), get_object_string(a))"
   ]
  },
  {
   "cell_type": "code",
   "execution_count": 11,
   "metadata": {},
   "outputs": [
    {
     "name": "stdout",
     "output_type": "stream",
     "text": [
      "'Apple Examples' (a) (int) = 10\n"
     ]
    }
   ],
   "source": [
    "print(f\"'Apple Examples' (a) ({get_type_annotation(a)}) = {get_object_string(a)}\")"
   ]
  },
  {
   "cell_type": "code",
   "execution_count": 17,
   "metadata": {},
   "outputs": [],
   "source": [
    "def get_var_name(var):\n",
    "    \"\"\"\n",
    "    Returns the name of a variable.\n",
    "\n",
    "    Args:\n",
    "        var (any): The variable whose name needs to be retrieved.\n",
    "\n",
    "    Returns:\n",
    "        str: The name of the variable.\n",
    "    \"\"\"\n",
    "    # Get the global and local variable names\n",
    "    global_names = list(globals().keys())\n",
    "    local_names = list(locals().keys())\n",
    "\n",
    "    # Check if the variable is in the global scope\n",
    "    for name in global_names:\n",
    "        if id(globals()[name]) == id(var):\n",
    "            return name\n",
    "\n",
    "    # Check if the variable is in the local scope\n",
    "    for name in local_names:\n",
    "        if id(locals()[name]) == id(var):\n",
    "            return name\n",
    "\n",
    "    # If the variable was not found, return None\n",
    "    return None"
   ]
  },
  {
   "cell_type": "code",
   "execution_count": 18,
   "metadata": {},
   "outputs": [
    {
     "data": {
      "text/plain": [
       "'apple'"
      ]
     },
     "execution_count": 18,
     "metadata": {},
     "output_type": "execute_result"
    }
   ],
   "source": [
    "\n",
    "a = \"hello\"\n",
    "b = 10\n",
    "apple = Apple(\"red\", 100, 10, \"China\")\n",
    "\n",
    "get_var_name(a) # a\n",
    "get_var_name(b) # b\n",
    "get_var_name(apple) # apple"
   ]
  },
  {
   "cell_type": "code",
   "execution_count": 21,
   "metadata": {},
   "outputs": [
    {
     "name": "stdout",
     "output_type": "stream",
     "text": [
      "b\n"
     ]
    }
   ],
   "source": [
    "print(get_var_name(b))"
   ]
  },
  {
   "cell_type": "code",
   "execution_count": 20,
   "metadata": {},
   "outputs": [
    {
     "data": {
      "text/plain": [
       "'apple'"
      ]
     },
     "execution_count": 20,
     "metadata": {},
     "output_type": "execute_result"
    }
   ],
   "source": [
    "get_var_name(apple)"
   ]
  },
  {
   "cell_type": "code",
   "execution_count": 94,
   "metadata": {},
   "outputs": [],
   "source": [
    "registry_data = {\n",
    "    \"get_emoji(Module)\": {\n",
    "        \"model\": [\"obj\", \"\"],\n",
    "        \"llm\": [None, \"\"],\n",
    "        \"emoji_examples\": [\"list[dict[str,str]]\", \"Examples of Text to Emoji\"],\n",
    "        \"PersonalityIndex\": [\"class\", \"Personality Index of a Person\"],\n",
    "        \"Personality\": [\"Enum\", \"Personality of the Person\"],\n",
    "        \"personality_examples\": [\n",
    "            \"dict[str,Personality|None]\",\n",
    "            \"Personality Information of Famous People\",\n",
    "        ],\n",
    "        \"Person\": [\"obj\", \"Person\"],\n",
    "        \"outer\": [\"obj\", \"main object \"],\n",
    "        \"obj1\": [None, \"\"],\n",
    "        \"pp\": [None, \"\"],\n",
    "    },\n",
    "    \"get_emoji(Module).PersonalityIndex(class)\": {\"\": [None, \"\"]},\n",
    "    \"get_emoji(Module).Personality(Enum)\": {\n",
    "        \"INTROVERT\": [None, \"Person who is shy and reticent\"],\n",
    "        \"EXTROVERT\": [None, \"Person who is outgoing and socially confident\"],\n",
    "    },\n",
    "    \"get_emoji(Module).Person(obj)\": {\n",
    "        \"name\": [\"str\", \"Name of the Person\"],\n",
    "        \"age\": [\"int\", \"Age of the Person\"],\n",
    "        \"personality\": [\"Personality\", \"Personality of the Person\"]\n",
    "    },\n",
    "    \"get_emoji(Module).outer(obj).inner(obj)\": {\"in_var\": [\"int|Person\", \"inner variable\"]},\n",
    "    \"get_emoji(Module).outer(obj)\": {\"inner\": [\"obj\", \"inner object\"]},\n",
    "}"
   ]
  },
  {
   "cell_type": "code",
   "execution_count": 117,
   "metadata": {},
   "outputs": [],
   "source": [
    "import re\n",
    "\n",
    "def get_type_explanation(type_str: str) -> str:\n",
    "    main_registry_type_info = None\n",
    "    scope = None\n",
    "    for k, v in registry_data.items():\n",
    "        for i, j in v.items():\n",
    "            if i == type_str:\n",
    "                main_registry_type_info = j\n",
    "                scope = k\n",
    "                break\n",
    "    if not main_registry_type_info:\n",
    "        return\n",
    "    type_type = main_registry_type_info[0]\n",
    "    type_semstr = main_registry_type_info[1]\n",
    "    type_info = registry_data[f\"{scope}.{type_str}({type_type})\"]\n",
    "    type_info_str = []\n",
    "    type_info_types = []\n",
    "    if type_type == \"Enum\":\n",
    "        for k, v in type_info.items():\n",
    "            type_info_str.append(f\"{v[1]} ({k}) (EnumItem)\")\n",
    "    elif type_type in [\"obj\", \"class\", \"node\", \"edge\"]:\n",
    "        for k, v in type_info.items():\n",
    "            type_info_str.append(f\"{v[1]} ({k}) ({v[0]})\")\n",
    "            if extract_non_primary_type(v[0]):\n",
    "                type_info_types.extend(extract_non_primary_type(v[0]))\n",
    "    return f\"{type_semstr} ({type_str}) ({type_type}) = {', '.join(type_info_str)}\", set(type_info_types)\n",
    "\n",
    "\n",
    "def extract_non_primary_type(type_str: str) -> list:\n",
    "    \"\"\"Extract non-primary types from the type string.\"\"\"\n",
    "    if not type_str:\n",
    "        return []\n",
    "    pattern = r\"(?:\\[|,\\s*|\\|)([a-zA-Z_][a-zA-Z0-9_]*)|([a-zA-Z_][a-zA-Z0-9_]*)\"\n",
    "    matches = re.findall(pattern, type_str)\n",
    "    primary_types = [\n",
    "        \"str\",\n",
    "        \"int\",\n",
    "        \"float\",\n",
    "        \"bool\",\n",
    "        \"list\",\n",
    "        \"dict\",\n",
    "        \"tuple\",\n",
    "        \"set\",\n",
    "        \"Any\",\n",
    "        \"None\",\n",
    "    ]\n",
    "    non_primary_types = [m for t in matches for m in t if m and m not in primary_types]\n",
    "    return non_primary_types\n",
    "\n",
    "def get_all_type_explanations(type_list: list) -> str:\n",
    "    collected_type_explanations = {}\n",
    "    for type_item in type_list:\n",
    "        type_explanation, nested_types = get_type_explanation(type_item)\n",
    "        if type_item not in collected_type_explanations:\n",
    "            collected_type_explanations[type_item] = type_explanation\n",
    "            if nested_types:\n",
    "                nested_collected_type_explanations = get_all_type_explanations(nested_types)\n",
    "                for k, v in nested_collected_type_explanations.items():\n",
    "                    if k not in collected_type_explanations:\n",
    "                        collected_type_explanations[k] = v\n",
    "    return collected_type_explanations"
   ]
  },
  {
   "cell_type": "code",
   "execution_count": 118,
   "metadata": {},
   "outputs": [
    {
     "data": {
      "text/plain": [
       "('Personality of the Person (Personality) (Enum) = Person who is shy and reticent (INTROVERT) (EnumItem), Person who is outgoing and socially confident (EXTROVERT) (EnumItem)',\n",
       " set())"
      ]
     },
     "execution_count": 118,
     "metadata": {},
     "output_type": "execute_result"
    }
   ],
   "source": [
    "get_type_explanation(\"Personality\")"
   ]
  },
  {
   "cell_type": "code",
   "execution_count": 119,
   "metadata": {},
   "outputs": [
    {
     "data": {
      "text/plain": [
       "('Person (Person) (obj) = Name of the Person (name) (str), Age of the Person (age) (int), Personality of the Person (personality) (Personality)',\n",
       " {'Personality'})"
      ]
     },
     "execution_count": 119,
     "metadata": {},
     "output_type": "execute_result"
    }
   ],
   "source": [
    "get_type_explanation(\"Person\")"
   ]
  },
  {
   "cell_type": "code",
   "execution_count": 120,
   "metadata": {},
   "outputs": [
    {
     "data": {
      "text/plain": [
       "('Personality Index of a Person (PersonalityIndex) (class) =  () (None)',\n",
       " set())"
      ]
     },
     "execution_count": 120,
     "metadata": {},
     "output_type": "execute_result"
    }
   ],
   "source": [
    "get_type_explanation(\"PersonalityIndex\")"
   ]
  },
  {
   "cell_type": "code",
   "execution_count": 121,
   "metadata": {},
   "outputs": [
    {
     "data": {
      "text/plain": [
       "('inner object (inner) (obj) = inner variable (in_var) (int|Person)',\n",
       " {'Person'})"
      ]
     },
     "execution_count": 121,
     "metadata": {},
     "output_type": "execute_result"
    }
   ],
   "source": [
    "get_type_explanation(\"inner\")"
   ]
  },
  {
   "cell_type": "code",
   "execution_count": 122,
   "metadata": {},
   "outputs": [
    {
     "name": "stdout",
     "output_type": "stream",
     "text": [
      "['Person', 'Personality', 'PersonalityIndex', 'inner'] Person {'Personality'}\n",
      "{'Personality'} Personality set()\n",
      "['Person', 'Personality', 'PersonalityIndex', 'inner'] Personality set()\n",
      "['Person', 'Personality', 'PersonalityIndex', 'inner'] PersonalityIndex set()\n",
      "['Person', 'Personality', 'PersonalityIndex', 'inner'] inner {'Person'}\n",
      "{'Person'} Person {'Personality'}\n",
      "{'Personality'} Personality set()\n",
      "Person (Person) (obj) = Name of the Person (name) (str), Age of the Person (age) (int), Personality of the Person (personality) (Personality)\n",
      "Personality of the Person (Personality) (Enum) = Person who is shy and reticent (INTROVERT) (EnumItem), Person who is outgoing and socially confident (EXTROVERT) (EnumItem)\n",
      "Personality Index of a Person (PersonalityIndex) (class) =  () (None)\n",
      "inner object (inner) (obj) = inner variable (in_var) (int|Person)\n"
     ]
    }
   ],
   "source": [
    "print(\"\\n\".join(list(get_all_type_explanations([ \"Person\", \"Personality\" ,\"PersonalityIndex\", \"inner\"]).values())))"
   ]
  },
  {
   "cell_type": "code",
   "execution_count": null,
   "metadata": {},
   "outputs": [],
   "source": []
  },
  {
   "cell_type": "code",
   "execution_count": 134,
   "metadata": {},
   "outputs": [],
   "source": [
    "from typing import Any\n",
    "\n",
    "\n",
    "def get_type_annotation(data: Any) -> str:\n",
    "    # Check if the input is a dictionary\n",
    "    if isinstance(data, dict):\n",
    "        # Get the class name of the first non-None value in the dictionary\n",
    "        class_name = next(\n",
    "            (value.__class__.__name__ for value in data.values() if value is not None),\n",
    "            None,\n",
    "        )\n",
    "\n",
    "        if class_name:\n",
    "            return f\"dict[str, {class_name}]\"\n",
    "        else:\n",
    "            return \"dict[str, Any]\"\n",
    "    # If the input is not a dictionary, return its type\n",
    "    else:\n",
    "        return type(data).__name__\n",
    "\n",
    "\n",
    "def get_object_string(obj):\n",
    "    if isinstance(obj, str):\n",
    "        return f'\"{obj}\"'\n",
    "    elif isinstance(obj, (int, float, bool)):\n",
    "        return str(obj)\n",
    "    elif isinstance(obj, list):\n",
    "        return '[' + ', '.join(get_object_string(item) for item in obj) + ']'\n",
    "    elif isinstance(obj, tuple):\n",
    "        return '(' + ', '.join(get_object_string(item) for item in obj) + ')'\n",
    "    elif isinstance(obj, dict):\n",
    "        return '{' + ', '.join(f\"{get_object_string(key)}: {get_object_string(value)}\" for key, value in obj.items()) + '}'\n",
    "    elif hasattr(obj, '__dict__'):\n",
    "        args = ', '.join(f\"{key}={get_object_string(value)}\" for key, value in vars(obj).items())\n",
    "        return f\"{obj.__class__.__name__}({args})\"\n",
    "    else:\n",
    "        return str(obj)\n",
    "\n",
    "\n",
    "def get_variable_name(var):\n",
    "    \"\"\"\n",
    "    Returns the name of a variable.\n",
    "\n",
    "    Args:\n",
    "        var (any): The variable whose name needs to be retrieved.\n",
    "\n",
    "    Returns:\n",
    "        str: The name of the variable.\n",
    "    \"\"\"\n",
    "    # Get the global and local variable names\n",
    "    global_names = list(globals().keys())\n",
    "    local_names = list(locals().keys())\n",
    "\n",
    "    # Check if the variable is in the global scope\n",
    "    for name in global_names:\n",
    "        if id(globals()[name]) == id(var):\n",
    "            return name\n",
    "\n",
    "    # Check if the variable is in the local scope\n",
    "    for name in local_names:\n",
    "        if id(locals()[name]) == id(var):\n",
    "            return name\n",
    "\n",
    "    # If the variable was not found, return None\n",
    "    return None"
   ]
  },
  {
   "cell_type": "code",
   "execution_count": 135,
   "metadata": {},
   "outputs": [],
   "source": [
    "a = \"hello\"\n",
    "\n",
    "from enum import Enum\n",
    "\n",
    "Personality = Enum(\"Personality\", [\"INTROVERT\", \"EXTROVERT\"])"
   ]
  },
  {
   "cell_type": "code",
   "execution_count": 136,
   "metadata": {},
   "outputs": [
    {
     "data": {
      "text/plain": [
       "<enum 'Personality'>"
      ]
     },
     "execution_count": 136,
     "metadata": {},
     "output_type": "execute_result"
    }
   ],
   "source": [
    "Personality"
   ]
  },
  {
   "cell_type": "code",
   "execution_count": 149,
   "metadata": {},
   "outputs": [
    {
     "data": {
      "text/plain": [
       "'str'"
      ]
     },
     "execution_count": 149,
     "metadata": {},
     "output_type": "execute_result"
    }
   ],
   "source": [
    "get_type_annotation(a)"
   ]
  },
  {
   "cell_type": "code",
   "execution_count": 161,
   "metadata": {},
   "outputs": [],
   "source": [
    "class Person:\n",
    "    def __init__(self, name, age, personality):\n",
    "        self.name = name\n",
    "        self.age = age\n",
    "        self.personality = personality"
   ]
  },
  {
   "cell_type": "code",
   "execution_count": 162,
   "metadata": {},
   "outputs": [
    {
     "data": {
      "text/plain": [
       "'type'"
      ]
     },
     "execution_count": 162,
     "metadata": {},
     "output_type": "execute_result"
    }
   ],
   "source": [
    "get_type_annotation(Person)"
   ]
  },
  {
   "cell_type": "code",
   "execution_count": 163,
   "metadata": {},
   "outputs": [],
   "source": [
    "x = {\n",
    "    \"a1\": Person(\"John\", 25, Personality.INTROVERT),\n",
    "    \"a2\": Person(\"Jane\", 30, Personality.EXTROVERT),\n",
    "    \"a3\": Person(\"Doe\", 35, Personality.INTROVERT)\n",
    "}"
   ]
  },
  {
   "cell_type": "code",
   "execution_count": 164,
   "metadata": {},
   "outputs": [
    {
     "data": {
      "text/plain": [
       "'{\"a1\": Person(name=\"John\", age=25, personality=Personality.INTROVERT), \"a2\": Person(name=\"Jane\", age=30, personality=Personality.EXTROVERT), \"a3\": Person(name=\"Doe\", age=35, personality=Personality.INTROVERT)}'"
      ]
     },
     "execution_count": 164,
     "metadata": {},
     "output_type": "execute_result"
    }
   ],
   "source": [
    "get_object_string(x)"
   ]
  },
  {
   "cell_type": "code",
   "execution_count": 165,
   "metadata": {},
   "outputs": [
    {
     "name": "stdout",
     "output_type": "stream",
     "text": [
      "10\n",
      "\"apple\"\n",
      "[1, 2, 3]\n",
      "Person(name=\"John\", age=25, personality=Personality.INTROVERT)\n",
      "{\"a1\": Person(name=\"John\", age=25, personality=Personality.INTROVERT), \"a2\": Person(name=\"Jane\", age=30, personality=Personality.EXTROVERT), \"a3\": Person(name=\"Doe\", age=35, personality=Personality.INTROVERT)}\n"
     ]
    }
   ],
   "source": [
    "from enum import Enum\n",
    "\n",
    "def get_object_string(obj):\n",
    "    if isinstance(obj, str):\n",
    "        return f'\"{obj}\"'\n",
    "    elif isinstance(obj, (int, float, bool)):\n",
    "        return str(obj)\n",
    "    elif isinstance(obj, list):\n",
    "        return '[' + ', '.join(get_object_string(item) for item in obj) + ']'\n",
    "    elif isinstance(obj, tuple):\n",
    "        return '(' + ', '.join(get_object_string(item) for item in obj) + ')'\n",
    "    elif isinstance(obj, dict):\n",
    "        return '{' + ', '.join(f\"{get_object_string(key)}: {get_object_string(value)}\" for key, value in obj.items()) + '}'\n",
    "    elif isinstance(obj, Enum):\n",
    "        return f\"{obj.__class__.__name__}.{obj.name}\"\n",
    "    elif hasattr(obj, '__dict__'):\n",
    "        args = ', '.join(f\"{key}={get_object_string(value)}\" for key, value in vars(obj).items())\n",
    "        return f\"{obj.__class__.__name__}({args})\"\n",
    "    else:\n",
    "        return str(obj)\n",
    "\n",
    "a = 10\n",
    "b =\"apple\"\n",
    "c = [1,2,3]\n",
    "p = Person(\"John\", 25, Personality.INTROVERT)\n",
    "\n",
    "\n",
    "x = {\n",
    "    \"a1\": Person(\"John\", 25, Personality.INTROVERT),\n",
    "    \"a2\": Person(\"Jane\", 30, Personality.EXTROVERT),\n",
    "    \"a3\": Person(\"Doe\", 35, Personality.INTROVERT)\n",
    "}\n",
    "\n",
    "print(get_object_string(a)) # 10\n",
    "print(get_object_string(b)) # apple\n",
    "print(get_object_string(c)) # [1,2,3]\n",
    "print(get_object_string(p)) # Person(name=\"John\", age=25, personality=Personality.INTROVERT)\n",
    "print(get_object_string(x)) # {'a1': Person(name=\"John\", age=25, personality=Personality.INTROVERT), 'a2': Person(name=\"Jane\", age=30, personality=Personality.EXTROVERT), 'a3': Person(name=\"Doe\", age=35, personality=Personality.INTROVERT)}\n",
    "\n"
   ]
  },
  {
   "cell_type": "code",
   "execution_count": 150,
   "metadata": {},
   "outputs": [
    {
     "data": {
      "text/plain": [
       "'EnumType'"
      ]
     },
     "execution_count": 150,
     "metadata": {},
     "output_type": "execute_result"
    }
   ],
   "source": [
    "def get_type(obj):\n",
    "    \"\"\"\n",
    "    Returns the type of the given object.\n",
    "    \"\"\"\n",
    "    return type(obj).__name__\n",
    "\n",
    "class Person:\n",
    "    def __init__(self, name, age, personality):\n",
    "        self.name = name\n",
    "        self.age = age\n",
    "        self.personality = personality\n",
    "\n",
    "from enum import Enum\n",
    "\n",
    "Personality = Enum(\"Personality\", [\"INTROVERT\", \"EXTROVERT\"])\n",
    "\n",
    "get_type(Person) # Person\n",
    "get_type(Personality) # Personality\n"
   ]
  },
  {
   "cell_type": "code",
   "execution_count": 167,
   "metadata": {},
   "outputs": [],
   "source": [
    "from jaclang.plugin.feature import JacFeature as _Jac\n",
    "from dataclasses import dataclass as __jac_dataclass__\n",
    "\n",
    "@_Jac.make_obj(on_entry=[], on_exit=[])\n",
    "@__jac_dataclass__(eq=False)\n",
    "class Person2:\n",
    "    name: str\n",
    "    age: int\n",
    "    personality: Personality"
   ]
  },
  {
   "cell_type": "code",
   "execution_count": 181,
   "metadata": {},
   "outputs": [],
   "source": [
    "def get_object_string(obj):\n",
    "    if isinstance(obj, str):\n",
    "        return f'\"{obj}\"'\n",
    "    elif isinstance(obj, (int, float, bool)):\n",
    "        return str(obj)\n",
    "    elif isinstance(obj, list):\n",
    "        return '[' + ', '.join(get_object_string(item) for item in obj) + ']'\n",
    "    elif isinstance(obj, tuple):\n",
    "        return '(' + ', '.join(get_object_string(item) for item in obj) + ')'\n",
    "    elif isinstance(obj, dict):\n",
    "        return '{' + ', '.join(f\"{get_object_string(key)}: {get_object_string(value)}\" for key, value in obj.items()) + '}'\n",
    "    elif isinstance(obj, Enum):\n",
    "        print(obj)\n",
    "        return f\"{obj.__class__.__name__}.{obj.name}\"\n",
    "    elif hasattr(obj, '__dict__'):\n",
    "        args = ', '.join(f\"{key}={get_object_string(value)}\" for key, value in vars(obj).items() if key!=\"_jac_\")\n",
    "        return f\"{obj.__class__.__name__}({args})\"\n",
    "    else:\n",
    "        return str(obj)"
   ]
  },
  {
   "cell_type": "code",
   "execution_count": 182,
   "metadata": {},
   "outputs": [],
   "source": [
    "a = Person2(\"John\", 25, Personality.INTROVERT)"
   ]
  },
  {
   "cell_type": "code",
   "execution_count": null,
   "metadata": {},
   "outputs": [],
   "source": []
  },
  {
   "cell_type": "code",
   "execution_count": 183,
   "metadata": {},
   "outputs": [
    {
     "name": "stdout",
     "output_type": "stream",
     "text": [
      "Personality.INTROVERT\n"
     ]
    },
    {
     "data": {
      "text/plain": [
       "'Person2(name=\"John\", age=25, personality=Personality.INTROVERT)'"
      ]
     },
     "execution_count": 183,
     "metadata": {},
     "output_type": "execute_result"
    }
   ],
   "source": [
    "get_object_string(a) # Person2(name=\"John\", age=25, personality=Personality.INTROVERT)"
   ]
  },
  {
   "cell_type": "code",
   "execution_count": 186,
   "metadata": {},
   "outputs": [],
   "source": [
    "x = {\n",
    "    \"a1\": Personality.INTROVERT,\n",
    "    \"a2\": Personality.EXTROVERT,\n",
    "}"
   ]
  },
  {
   "cell_type": "code",
   "execution_count": 187,
   "metadata": {},
   "outputs": [
    {
     "name": "stdout",
     "output_type": "stream",
     "text": [
      "Personality.INTROVERT\n",
      "Personality.EXTROVERT\n"
     ]
    },
    {
     "data": {
      "text/plain": [
       "'{\"a1\": Personality.INTROVERT, \"a2\": Personality.EXTROVERT}'"
      ]
     },
     "execution_count": 187,
     "metadata": {},
     "output_type": "execute_result"
    }
   ],
   "source": [
    "get_object_string(x)"
   ]
  },
  {
   "cell_type": "code",
   "execution_count": 188,
   "metadata": {},
   "outputs": [],
   "source": [
    "obj_str = \"Personality.INTROVERT\"\n",
    "\n",
    "obj = eval(obj_str)"
   ]
  },
  {
   "cell_type": "code",
   "execution_count": 189,
   "metadata": {},
   "outputs": [
    {
     "data": {
      "text/plain": [
       "<Personality.INTROVERT: 1>"
      ]
     },
     "execution_count": 189,
     "metadata": {},
     "output_type": "execute_result"
    }
   ],
   "source": [
    "obj"
   ]
  },
  {
   "cell_type": "code",
   "execution_count": 190,
   "metadata": {},
   "outputs": [],
   "source": [
    "obj_str = \"Person(name='John', age=25, personality=Personality.INTROVERT)\"\n",
    "obj = eval(obj_str)"
   ]
  },
  {
   "cell_type": "code",
   "execution_count": 191,
   "metadata": {},
   "outputs": [
    {
     "data": {
      "text/plain": [
       "<__main__.Person at 0x7f95768a9520>"
      ]
     },
     "execution_count": 191,
     "metadata": {},
     "output_type": "execute_result"
    }
   ],
   "source": [
    "obj"
   ]
  },
  {
   "cell_type": "code",
   "execution_count": 192,
   "metadata": {},
   "outputs": [
    {
     "data": {
      "text/plain": [
       "<Personality.INTROVERT: 1>"
      ]
     },
     "execution_count": 192,
     "metadata": {},
     "output_type": "execute_result"
    }
   ],
   "source": [
    "obj.personality"
   ]
  },
  {
   "cell_type": "code",
   "execution_count": 194,
   "metadata": {},
   "outputs": [],
   "source": [
    "\n",
    "class Country:\n",
    "    def __init__(self, name: str, code: Apple):\n",
    "        self.name = name\n",
    "        self.code = code\n",
    "class Apple:\n",
    "    def __init__(self, color: str, origin: Country = None):\n",
    "        self.color = color\n",
    "        self.origin = origin\n"
   ]
  },
  {
   "cell_type": "code",
   "execution_count": 211,
   "metadata": {},
   "outputs": [],
   "source": [
    "obj_str = 'Apple(color=\"red\", origin=Country(name=\"USA\", code=Apple(color=\"red\", origin=None)))'\n",
    "obj = eval(obj_str)"
   ]
  },
  {
   "cell_type": "code",
   "execution_count": 213,
   "metadata": {},
   "outputs": [
    {
     "data": {
      "text/plain": [
       "<__main__.Apple at 0x7f9576ab78f0>"
      ]
     },
     "execution_count": 213,
     "metadata": {},
     "output_type": "execute_result"
    }
   ],
   "source": [
    "obj.origin.code"
   ]
  },
  {
   "cell_type": "code",
   "execution_count": 18,
   "metadata": {},
   "outputs": [],
   "source": [
    "\n",
    "import re\n",
    "def get_reasoning_output(text):\n",
    "    reasoning_match = re.search(r\"\\[Reasoning\\]\\s*(.*?)\\s*\\n\", text)\n",
    "    output_match = re.search(r\"\\[Output\\]\\s*(.*)\", text)\n",
    "    \n",
    "    reasoning = reasoning_match.group(1) if reasoning_match else None\n",
    "    output = output_match.group(1) if output_match else None\n",
    "    \n",
    "    return [reasoning, output]"
   ]
  },
  {
   "cell_type": "code",
   "execution_count": 46,
   "metadata": {},
   "outputs": [],
   "source": [
    "text = '[Reasoning] J. Robert Oppenheimer, also known as the \"father of the atomic bomb,\" was a brilliant theoretical physicist and the director of the Manhattan Project during World War II. He played a crucial role in developing the first nuclear weapons. However, after witnessing the devastation caused by the atomic bombs dropped on Hiroshima and Nagasaki, he expressed deep regret and became an advocate for nuclear disarmament. While he was an exceptional scientist, he was also known for his introspective and philosophical nature, which suggests an introverted personality.\\\\n[Output] Person(full_name=\"J. Robert Oppenheimer\", yod=1967, personality=Personality.INTROVERT)'\n"
   ]
  },
  {
   "cell_type": "code",
   "execution_count": 47,
   "metadata": {},
   "outputs": [
    {
     "data": {
      "text/plain": [
       "['J. Robert Oppenheimer, also known as the \"father of the atomic bomb,\" was a brilliant theoretical physicist and the director of the Manhattan Project during World War II. He played a crucial role in developing the first nuclear weapons. However, after witnessing the devastation caused by the atomic bombs dropped on Hiroshima and Nagasaki, he expressed deep regret and became an advocate for nuclear disarmament. While he was an exceptional scientist, he was also known for his introspective and philosophical nature, which suggests an introverted personality.\\\\n',\n",
       " 'Person(full_name=\"J. Robert Oppenheimer\", yod=1967, personality=Personality.INTROVERT)']"
      ]
     },
     "execution_count": 47,
     "metadata": {},
     "output_type": "execute_result"
    }
   ],
   "source": [
    "get_reasoning_output(text)"
   ]
  },
  {
   "cell_type": "code",
   "execution_count": null,
   "metadata": {},
   "outputs": [],
   "source": []
  },
  {
   "cell_type": "code",
   "execution_count": 48,
   "metadata": {},
   "outputs": [],
   "source": [
    "text1 = \"[Reasoning] Something Reason \\\\n [Output] Something Output\"\n",
    "text2 = \"[Output] Something\""
   ]
  },
  {
   "cell_type": "code",
   "execution_count": 49,
   "metadata": {},
   "outputs": [
    {
     "data": {
      "text/plain": [
       "['Something Reason \\\\n', 'Something Output']"
      ]
     },
     "execution_count": 49,
     "metadata": {},
     "output_type": "execute_result"
    }
   ],
   "source": [
    "get_reasoning_output(text1)"
   ]
  },
  {
   "cell_type": "code",
   "execution_count": 50,
   "metadata": {},
   "outputs": [
    {
     "data": {
      "text/plain": [
       "[(' J. Robert Oppenheimer, also known as the \"father of the atomic bomb,\" was a brilliant theoretical physicist and the director of the Manhattan Project during World War II. He played a crucial role in developing the first nuclear weapons. However, after witnessing the devastation caused by the atomic bombs dropped on Hiroshima and Nagasaki, he expressed deep regret and became an advocate for nuclear disarmament. While he was an exceptional scientist, he was also known for his introspective and philosophical nature, which suggests an introverted personality.',\n",
       "  ' Person(full_name=\"J. Robert Oppenheimer\", yod=1967, personality=Personality.INTROVERT)')]"
      ]
     },
     "execution_count": 50,
     "metadata": {},
     "output_type": "execute_result"
    }
   ],
   "source": [
    "re.findall(r\"\\[Reasoning\\](.*?)\\\\n\\s*\\[Output\\](.*)\", text)"
   ]
  },
  {
   "cell_type": "code",
   "execution_count": 51,
   "metadata": {},
   "outputs": [
    {
     "ename": "SyntaxError",
     "evalue": "unterminated string literal (detected at line 1) (3121925053.py, line 1)",
     "output_type": "error",
     "traceback": [
      "\u001b[0;36m  Cell \u001b[0;32mIn[51], line 1\u001b[0;36m\u001b[0m\n\u001b[0;31m    reasoning_match = re.search(r'\\[Reasoning\\](.*?)\u001b[0m\n\u001b[0m                                ^\u001b[0m\n\u001b[0;31mSyntaxError\u001b[0m\u001b[0;31m:\u001b[0m unterminated string literal (detected at line 1)\n"
     ]
    }
   ],
   "source": [
    "reasoning_match = re.search(r'\\[Reasoning\\](.*?)\n",
    "                        ', text)\n",
    "output_match = re.search(r'\\[Output\\](.*)', text)"
   ]
  },
  {
   "cell_type": "code",
   "execution_count": 52,
   "metadata": {},
   "outputs": [],
   "source": [
    "import re\n",
    "\n",
    "def get_reasoning_output(s):\n",
    "    reasoning_match = re.search(r'\\[Reasoning\\](.*)\\[Output\\]', s)\n",
    "    output_match = re.search(r'\\[Output\\](.*)', s)\n",
    "    \n",
    "    if reasoning_match and output_match:\n",
    "        reasoning = reasoning_match.group(1)\n",
    "        output = output_match.group(1)\n",
    "        return [reasoning.strip(), output.strip()]\n",
    "    elif output_match:\n",
    "        output = output_match.group(1)\n",
    "        return [None, output.strip()]\n",
    "    else:\n",
    "        return None"
   ]
  },
  {
   "cell_type": "code",
   "execution_count": 53,
   "metadata": {},
   "outputs": [
    {
     "data": {
      "text/plain": [
       "['J. Robert Oppenheimer, also known as the \"father of the atomic bomb,\" was a brilliant theoretical physicist and the director of the Manhattan Project during World War II. He played a crucial role in developing the first nuclear weapons. However, after witnessing the devastation caused by the atomic bombs dropped on Hiroshima and Nagasaki, he expressed deep regret and became an advocate for nuclear disarmament. While he was an exceptional scientist, he was also known for his introspective and philosophical nature, which suggests an introverted personality.\\\\n',\n",
       " 'Person(full_name=\"J. Robert Oppenheimer\", yod=1967, personality=Personality.INTROVERT)']"
      ]
     },
     "execution_count": 53,
     "metadata": {},
     "output_type": "execute_result"
    }
   ],
   "source": [
    "get_reasoning_output(text)"
   ]
  },
  {
   "cell_type": "code",
   "execution_count": 45,
   "metadata": {},
   "outputs": [
    {
     "data": {
      "text/plain": [
       "['Something Reason \\\\n', 'Something Output']"
      ]
     },
     "execution_count": 45,
     "metadata": {},
     "output_type": "execute_result"
    }
   ],
   "source": [
    "get_reasoning_output(text1)"
   ]
  },
  {
   "cell_type": "code",
   "execution_count": null,
   "metadata": {},
   "outputs": [],
   "source": []
  }
 ],
 "metadata": {
  "kernelspec": {
   "display_name": "Python 3",
   "language": "python",
   "name": "python3"
  },
  "language_info": {
   "codemirror_mode": {
    "name": "ipython",
    "version": 3
   },
   "file_extension": ".py",
   "mimetype": "text/x-python",
   "name": "python",
   "nbconvert_exporter": "python",
   "pygments_lexer": "ipython3",
   "version": "3.12.2"
  }
 },
 "nbformat": 4,
 "nbformat_minor": 2
}
