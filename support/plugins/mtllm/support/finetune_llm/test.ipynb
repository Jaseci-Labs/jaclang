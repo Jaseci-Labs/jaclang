{
 "cells": [
  {
   "cell_type": "markdown",
   "metadata": {},
   "source": [
    "[![Open In Colab](https://colab.research.google.com/assets/colab-badge.svg)](https://github.com/Jaseci-Labs/mtllm/blob/main/support/finetune_llm/test.ipynb)"
   ]
  },
  {
   "cell_type": "code",
   "execution_count": 1,
   "metadata": {},
   "outputs": [
    {
     "name": "stderr",
     "output_type": "stream",
     "text": [
      "/opt/conda/envs/mtllm_train/lib/python3.12/site-packages/tqdm/auto.py:21: TqdmWarning: IProgress not found. Please update jupyter and ipywidgets. See https://ipywidgets.readthedocs.io/en/stable/user_install.html\n",
      "  from .autonotebook import tqdm as notebook_tqdm\n"
     ]
    }
   ],
   "source": [
    "from transformers import AutoModelForCausalLM, AutoTokenizer\n",
    "import torch\n",
    "\n",
    " # Change this to the model you want to use\n",
    "checkpoint = \"chandralegend/mtllm-levelgen-smollm-1.7b-chat\"\n",
    "\n",
    "device = \"cuda\" if torch.cuda.is_available() else \"cpu\"\n",
    "\n",
    "tokenizer = AutoTokenizer.from_pretrained(checkpoint, load_in_4bit=True)\n",
    "model = AutoModelForCausalLM.from_pretrained(checkpoint).to(device)"
   ]
  },
  {
   "cell_type": "code",
   "execution_count": 2,
   "metadata": {},
   "outputs": [],
   "source": [
    "from datasets import Dataset, load_dataset\n",
    "\n",
    "\n",
    "def formatted_train(input: str, response: str) -> str:\n",
    "    \"\"\"Format the input and response into the chat prompt format.\"\"\"\n",
    "    return f\"{input}\\n{response}\\n\"\n",
    "\n",
    "\n",
    "def prepare_train_data(dataset: str) -> Dataset:\n",
    "    \"\"\"Prepare the training data for the MTLLM model.\"\"\"\n",
    "    _dataset = load_dataset(dataset)\n",
    "    dataset_df = _dataset[\"train\"].to_pandas()\n",
    "    dataset_df[\"text\"] = dataset_df[[\"input_prompt\", \"output_prompt\"]].apply(\n",
    "        lambda x: formatted_train(x[\"input_prompt\"], x[\"output_prompt\"]), axis=1\n",
    "    )\n",
    "    _dataset_ = Dataset.from_pandas(dataset_df)\n",
    "    return _dataset_\n",
    "\n",
    "test_data = prepare_train_data(\"chandralegend/mtllm-level-gen-synthetic\")"
   ]
  },
  {
   "cell_type": "code",
   "execution_count": 10,
   "metadata": {},
   "outputs": [
    {
     "name": "stdout",
     "output_type": "stream",
     "text": [
      "Input: \n",
      "\n",
      "[System Prompt]\n",
      "This is an operation you must perform and return the output values. Neither, the methodology, extra sentences nor the code are not needed.\n",
      "Input/Type formatting: Explanation of the Input (variable_name) (type) = value\n",
      "\n",
      "[Information]\n",
      "\n",
      "\n",
      "[Context]\n",
      "\n",
      "\n",
      "[Inputs Information]\n",
      "(last_levels) (list[Level]) = [Level(name=\"Aldur's Keep\", difficulty=3, width=20, height=20, num_wall=23, num_enemies=6, time_countdown=90, n_retries_allowed=3), Level(name=\"Dragon's Roost\", difficulty=3, width=20, height=20, num_wall=25, num_enemies=8, time_countdown=85, n_retries_allowed=3)]\n",
      "(difficulty) (int) = 4\n",
      "(level_width) (int) = 20\n",
      "(level_height) (int) = 20\n",
      "\n",
      "[Output Information]\n",
      "(Level)\n",
      "\n",
      "[Type Explanations]\n",
      "(Level) (obj) eg:- Level(name=str, difficulty=int, width=int, height=int, num_wall=int, num_enemies=int, time_countdown=int, n_retries_allowed=int) -> Fantasy based Name (name) (str), (difficulty) (int), (width) (int), (height) (int), (num_wall) (int), (num_enemies) (int), (time_countdown) (int), (n_retries_allowed) (int)\n",
      "\n",
      "[Action]\n",
      "create_next_level\n",
      "Generate and return the output result(s) only, adhering to the provided Type in the following format\n",
      "\n",
      "[Output] <result>\n",
      "\n",
      "\n",
      "Expected Output: \n",
      "\n",
      "[Output] Level(name=\"Griffon's Perch\", difficulty=4, width=20, height=20, num_wall=27, num_enemies=10, time_countdown=80, n_retries_allowed=3)\n"
     ]
    }
   ],
   "source": [
    "idx = 11\n",
    "sample_input = test_data[idx][\"input\"]\n",
    "expected_output = test_data[idx][\"output\"]\n",
    "\n",
    "print(f\"Input: \\n\\n{sample_input}\\n\\n\")\n",
    "print(f\"Expected Output: \\n\\n{expected_output}\")\n"
   ]
  },
  {
   "cell_type": "code",
   "execution_count": 11,
   "metadata": {},
   "outputs": [
    {
     "name": "stdout",
     "output_type": "stream",
     "text": [
      "<|im_start|>user\n",
      "[System Prompt]\n",
      "This is an operation you must perform and return the output values. Neither, the methodology, extra sentences nor the code are not needed.\n",
      "Input/Type formatting: Explanation of the Input (variable_name) (type) = value\n",
      "\n",
      "[Information]\n",
      "\n",
      "\n",
      "[Context]\n",
      "\n",
      "\n",
      "[Inputs Information]\n",
      "(last_levels) (list[Level]) = [Level(name=\"Aldur's Keep\", difficulty=3, width=20, height=20, num_wall=23, num_enemies=6, time_countdown=90, n_retries_allowed=3), Level(name=\"Dragon's Roost\", difficulty=3, width=20, height=20, num_wall=25, num_enemies=8, time_countdown=85, n_retries_allowed=3)]\n",
      "(difficulty) (int) = 4\n",
      "(level_width) (int) = 20\n",
      "(level_height) (int) = 20\n",
      "\n",
      "[Output Information]\n",
      "(Level)\n",
      "\n",
      "[Type Explanations]\n",
      "(Level) (obj) eg:- Level(name=str, difficulty=int, width=int, height=int, num_wall=int, num_enemies=int, time_countdown=int, n_retries_allowed=int) -> Fantasy based Name (name) (str), (difficulty) (int), (width) (int), (height) (int), (num_wall) (int), (num_enemies) (int), (time_countdown) (int), (n_retries_allowed) (int)\n",
      "\n",
      "[Action]\n",
      "create_next_level\n",
      "Generate and return the output result(s) only, adhering to the provided Type in the following format\n",
      "\n",
      "[Output] <result><|im_end|>\n",
      "\n"
     ]
    }
   ],
   "source": [
    "messages = [\n",
    "    {\"role\": \"user\", \"content\": sample_input},\n",
    "]\n",
    "model_input_str = tokenizer.apply_chat_template(messages, tokenize=False)\n",
    "print(model_input_str)"
   ]
  },
  {
   "cell_type": "code",
   "execution_count": 12,
   "metadata": {},
   "outputs": [],
   "source": [
    "model_input = tokenizer.encode(model_input_str, return_tensors=\"pt\").to(device)"
   ]
  },
  {
   "cell_type": "code",
   "execution_count": 13,
   "metadata": {},
   "outputs": [
    {
     "data": {
      "text/plain": [
       "torch.Size([1, 418])"
      ]
     },
     "execution_count": 13,
     "metadata": {},
     "output_type": "execute_result"
    }
   ],
   "source": [
    "model_input.shape"
   ]
  },
  {
   "cell_type": "code",
   "execution_count": 14,
   "metadata": {},
   "outputs": [],
   "source": [
    "outputs = model.generate(model_input, max_new_tokens=100)\n",
    "output = tokenizer.decode(outputs[0])"
   ]
  },
  {
   "cell_type": "code",
   "execution_count": 15,
   "metadata": {},
   "outputs": [
    {
     "name": "stdout",
     "output_type": "stream",
     "text": [
      "<|im_start|>assistant\n",
      "[Output] Level(name='Dragon's Roost', difficulty=4, width=20, height=20, num_wall=25, num_enemies=8, time_countdown=85, n_retries_allowed=3)\n",
      "\n",
      "[Type] Level(name='', difficulty=4, width=20, height=20, num_wall=25, num_enemies=\n"
     ]
    }
   ],
   "source": [
    "print(output[len(model_input_str):])"
   ]
  },
  {
   "cell_type": "code",
   "execution_count": 16,
   "metadata": {},
   "outputs": [
    {
     "name": "stdout",
     "output_type": "stream",
     "text": [
      "<|im_start|>assistant\n",
      "[Output] Level(name=\"Griffon's Perch\", difficulty=4, width=20, height=20, num_wall=27, num_enemies=10, time_countdown=80, n_retries_allowed=3)<|im_end|>\n",
      "\n"
     ]
    }
   ],
   "source": [
    "messages = [\n",
    "    {\"role\": \"assistant\", \"content\": expected_output},\n",
    "]\n",
    "expected_output_str = tokenizer.apply_chat_template(messages, tokenize=False)\n",
    "print(expected_output_str)"
   ]
  },
  {
   "cell_type": "code",
   "execution_count": null,
   "metadata": {},
   "outputs": [],
   "source": []
  }
 ],
 "metadata": {
  "kernelspec": {
   "display_name": "mtllm_train",
   "language": "python",
   "name": "python3"
  },
  "language_info": {
   "codemirror_mode": {
    "name": "ipython",
    "version": 3
   },
   "file_extension": ".py",
   "mimetype": "text/x-python",
   "name": "python",
   "nbconvert_exporter": "python",
   "pygments_lexer": "ipython3",
   "version": "3.12.4"
  }
 },
 "nbformat": 4,
 "nbformat_minor": 2
}
